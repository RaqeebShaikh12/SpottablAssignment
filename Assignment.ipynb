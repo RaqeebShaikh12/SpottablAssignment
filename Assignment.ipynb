{
  "cells": [
    {
      "cell_type": "markdown",
      "metadata": {
        "id": "view-in-github",
        "colab_type": "text"
      },
      "source": [
        "<a href=\"https://colab.research.google.com/github/RaqeebShaikh12/SpottablAssignment/blob/main/Assignment.ipynb\" target=\"_parent\"><img src=\"https://colab.research.google.com/assets/colab-badge.svg\" alt=\"Open In Colab\"/></a>"
      ]
    },
    {
      "cell_type": "code",
      "execution_count": null,
      "id": "cbf5eed5",
      "metadata": {
        "id": "cbf5eed5"
      },
      "outputs": [],
      "source": [
        "import json\n",
        "import pandas as pd\n",
        "\n",
        "with open('domainTags2.json', encoding='utf-8') as f:\n",
        "    data = json.load(f)\n",
        "    \n",
        "df = pd.DataFrame(data)"
      ]
    },
    {
      "cell_type": "code",
      "execution_count": null,
      "id": "5ee05f19",
      "metadata": {
        "id": "5ee05f19"
      },
      "outputs": [],
      "source": [
        "df.head()"
      ]
    },
    {
      "cell_type": "code",
      "execution_count": null,
      "id": "40c39042",
      "metadata": {
        "id": "40c39042"
      },
      "outputs": [],
      "source": [
        "df.shape"
      ]
    },
    {
      "cell_type": "code",
      "execution_count": null,
      "id": "576b9519",
      "metadata": {
        "id": "576b9519"
      },
      "outputs": [],
      "source": [
        "df.info()"
      ]
    },
    {
      "cell_type": "code",
      "execution_count": null,
      "id": "36e72ed7",
      "metadata": {
        "id": "36e72ed7"
      },
      "outputs": [],
      "source": [
        "# Function to find similar companies based on tags and description\n",
        "def find_similar_companies(company_name):\n",
        "    # Find the company object with the given name\n",
        "    company = None\n",
        "    for c in df:\n",
        "        if company_name.lower() in c['companyName']:\n",
        "            company = c\n",
        "            break\n",
        "\n",
        "    if not company:\n",
        "        return []\n",
        "\n",
        "    # Find companies with similar tags\n",
        "    similar_companies = []\n",
        "    for c in df:\n",
        "        if c == company:\n",
        "            continue\n",
        "        if any(tag in c['tags'] for tag in company['tags']):\n",
        "            similarity = SequenceMatcher(None, company['companyDesc'], c['companyDesc']).ratio()\n",
        "            if similarity > 0.5: # adjust threshold as needed\n",
        "                similar_companies.append(c)\n",
        "\n",
        "    return similar_companies\n",
        "\n",
        "# Example usage\n",
        "similar_companies = find_similar_companies('Swiggy')\n",
        "print([c['companyName'] for c in similar_companies])"
      ]
    },
    {
      "cell_type": "code",
      "execution_count": null,
      "id": "ccebd443",
      "metadata": {
        "id": "ccebd443"
      },
      "outputs": [],
      "source": [
        "from datetime import datetime\n",
        "\n",
        "# Function to calculate growth rate of a company\n",
        "def calculate_growth_rate(company):\n",
        "    if not company['fundingList']:\n",
        "        return None\n",
        "    latest_funding = max(company['fundingList'], key=lambda x: x['fundedYear'])\n",
        "    founded_year = datetime.strptime(company['foundedDate'], '%Y-%m-%d').year\n",
        "    years_since_founded = datetime.now().year - founded_year\n",
        "    growth_rate = latest_funding['raisedAmount'] / years_since_founded\n",
        "    return growth_rate\n",
        "\n",
        "# Function to find companies with fastest and slowest growth based on a domain\n",
        "def find_growth_companies(domain):\n",
        "    # Find companies with the given domain\n",
        "    domain_companies = [c for c in df if domain in c['tags']]\n",
        "\n",
        "    # Calculate growth rates of all companies\n",
        "    companies_growth_rates = [(c, calculate_growth_rate(c)) for c in domain_companies]\n",
        "\n",
        "    # Sort by growth rate\n",
        "    companies_growth_rates = sorted(companies_growth_rates, key=lambda x: x[1])\n",
        "\n",
        "    return companies_growth_rates[0][0], companies_growth_rates[-1][0]\n",
        "\n",
        "# Example usage\n",
        "fastest_growing, slowest_growing = find_growth_companies('e-commerce')\n",
        "print(f'Fastest growing company: {fastest_growing[\"companyName\"]}')\n",
        "print(f'Slowest growing company: {slowest_growing[\"companyName\"]}')"
      ]
    }
  ],
  "metadata": {
    "kernelspec": {
      "display_name": "Python 3 (ipykernel)",
      "language": "python",
      "name": "python3"
    },
    "language_info": {
      "codemirror_mode": {
        "name": "ipython",
        "version": 3
      },
      "file_extension": ".py",
      "mimetype": "text/x-python",
      "name": "python",
      "nbconvert_exporter": "python",
      "pygments_lexer": "ipython3",
      "version": "3.9.7"
    },
    "colab": {
      "provenance": [],
      "include_colab_link": true
    }
  },
  "nbformat": 4,
  "nbformat_minor": 5
}